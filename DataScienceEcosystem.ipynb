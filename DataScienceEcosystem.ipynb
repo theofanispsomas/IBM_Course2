{
 "cells": [
  {
   "cell_type": "markdown",
   "id": "f5c58454",
   "metadata": {},
   "source": [
    "# Data Science Tools and Ecosystem"
   ]
  },
  {
   "cell_type": "markdown",
   "id": "8d4362a6",
   "metadata": {},
   "source": [
    "In this notebook, Data Science Tools and Ecosystem are summarized."
   ]
  },
  {
   "cell_type": "markdown",
   "id": "a50c071f",
   "metadata": {},
   "source": [
    "Some of the popular languages that Data Scientists use are:"
   ]
  },
  {
   "cell_type": "markdown",
   "id": "e38a941a",
   "metadata": {},
   "source": [
    "1) Python\n",
    "2) Java\n",
    "3) SQL"
   ]
  },
  {
   "cell_type": "markdown",
   "id": "43e3d458",
   "metadata": {},
   "source": [
    "Some of the commonly used libraries used by Data Scientists include:\n",
    "1) numpy 2) pandas 3) Scikit"
   ]
  },
  {
   "cell_type": "markdown",
   "id": "a73f53a3",
   "metadata": {},
   "source": [
    "| Data Science Tools |\n",
    "| --- | \n",
    "| RStudio |\n",
    "| Apache Spark |\n",
    "| TensorFlow |"
   ]
  },
  {
   "cell_type": "markdown",
   "id": "781bc3e8",
   "metadata": {},
   "source": [
    "### Below are a few examples of evaluating arithmetic expressions in Python.\n"
   ]
  },
  {
   "cell_type": "code",
   "execution_count": 11,
   "id": "51349220",
   "metadata": {},
   "outputs": [
    {
     "data": {
      "text/plain": [
       "17"
      ]
     },
     "execution_count": 11,
     "metadata": {},
     "output_type": "execute_result"
    }
   ],
   "source": [
    "#This a simple arithmetic expression to mutiply then add integers\n",
    "(3*4)+5"
   ]
  },
  {
   "cell_type": "code",
   "execution_count": 12,
   "id": "a33cbb5e",
   "metadata": {},
   "outputs": [
    {
     "data": {
      "text/plain": [
       "3.3333333333333335"
      ]
     },
     "execution_count": 12,
     "metadata": {},
     "output_type": "execute_result"
    }
   ],
   "source": [
    "#This will convert 200 minutes to hours by diving by 60\n",
    "200/60"
   ]
  },
  {
   "cell_type": "markdown",
   "id": "4121684b",
   "metadata": {},
   "source": [
    "**Objectives:**\n",
    "* Introduction R and RStudi\n",
    "* Additional Cloud Based Jupyter Environments\n",
    "* Jupyter Architecture \n",
    "    "
   ]
  },
  {
   "cell_type": "markdown",
   "id": "a7d0984a",
   "metadata": {},
   "source": [
    "## Author\n",
    "   Theofanis Psomas"
   ]
  },
  {
   "cell_type": "code",
   "execution_count": null,
   "id": "9006cc6e",
   "metadata": {},
   "outputs": [],
   "source": []
  }
 ],
 "metadata": {
  "kernelspec": {
   "display_name": "Python 3 (ipykernel)",
   "language": "python",
   "name": "python3"
  },
  "language_info": {
   "codemirror_mode": {
    "name": "ipython",
    "version": 3
   },
   "file_extension": ".py",
   "mimetype": "text/x-python",
   "name": "python",
   "nbconvert_exporter": "python",
   "pygments_lexer": "ipython3",
   "version": "3.9.13"
  }
 },
 "nbformat": 4,
 "nbformat_minor": 5
}
